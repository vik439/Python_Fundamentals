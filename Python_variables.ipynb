{
 "cells": [
  {
   "cell_type": "markdown",
   "id": "3cc042f7",
   "metadata": {},
   "source": [
    "## Python Variables"
   ]
  },
  {
   "cell_type": "markdown",
   "id": "9f4a1870",
   "metadata": {},
   "source": [
    "Python Variables are containers for storing values.\n",
    "Unlike other languages, we don't require to declare variables.\n",
    "Variable is created the moment a value is assigned to it.\n",
    "Variables do not need to be declared with any particular type, and can even change type after they have been set.\n",
    "Variable names are case sensitive.\n",
    "Type of the variable can be ascertained using type() function.\n",
    "Particular variable type can be specified using casting.\n",
    "String variables are written with single or double quotes."
   ]
  },
  {
   "cell_type": "code",
   "execution_count": 3,
   "id": "d715ad06",
   "metadata": {},
   "outputs": [
    {
     "data": {
      "text/plain": [
       "6"
      ]
     },
     "execution_count": 3,
     "metadata": {},
     "output_type": "execute_result"
    }
   ],
   "source": [
    "x = 6\n",
    "x"
   ]
  },
  {
   "cell_type": "code",
   "execution_count": 5,
   "id": "d206b65e",
   "metadata": {},
   "outputs": [
    {
     "data": {
      "text/plain": [
       "'George'"
      ]
     },
     "execution_count": 5,
     "metadata": {},
     "output_type": "execute_result"
    }
   ],
   "source": [
    "x=5\n",
    "y= \"George\"\n",
    "y"
   ]
  },
  {
   "cell_type": "code",
   "execution_count": 7,
   "id": "82e87f2a",
   "metadata": {},
   "outputs": [
    {
     "data": {
      "text/plain": [
       "int"
      ]
     },
     "execution_count": 7,
     "metadata": {},
     "output_type": "execute_result"
    }
   ],
   "source": [
    "type(x)"
   ]
  },
  {
   "cell_type": "code",
   "execution_count": 8,
   "id": "a43e8283",
   "metadata": {},
   "outputs": [
    {
     "data": {
      "text/plain": [
       "str"
      ]
     },
     "execution_count": 8,
     "metadata": {},
     "output_type": "execute_result"
    }
   ],
   "source": [
    "type(y)"
   ]
  },
  {
   "cell_type": "markdown",
   "id": "d5ff153f",
   "metadata": {},
   "source": [
    "The datatype of a variable can be specified using casting."
   ]
  },
  {
   "cell_type": "code",
   "execution_count": 9,
   "id": "8df8969f",
   "metadata": {},
   "outputs": [
    {
     "data": {
      "text/plain": [
       "int"
      ]
     },
     "execution_count": 9,
     "metadata": {},
     "output_type": "execute_result"
    }
   ],
   "source": [
    "x = int(3)\n",
    "type(x)"
   ]
  },
  {
   "cell_type": "code",
   "execution_count": 10,
   "id": "4f55877d",
   "metadata": {},
   "outputs": [
    {
     "data": {
      "text/plain": [
       "float"
      ]
     },
     "execution_count": 10,
     "metadata": {},
     "output_type": "execute_result"
    }
   ],
   "source": [
    "y=float(3)\n",
    "type(y)"
   ]
  },
  {
   "cell_type": "code",
   "execution_count": 14,
   "id": "1595b915",
   "metadata": {},
   "outputs": [
    {
     "data": {
      "text/plain": [
       "('3', str)"
      ]
     },
     "execution_count": 14,
     "metadata": {},
     "output_type": "execute_result"
    }
   ],
   "source": [
    "x=str(3)\n",
    "x, type(x)"
   ]
  },
  {
   "cell_type": "markdown",
   "id": "e51d8f47",
   "metadata": {},
   "source": [
    "### Variable Names"
   ]
  },
  {
   "cell_type": "markdown",
   "id": "31df83d9",
   "metadata": {},
   "source": [
    "Variable names can be short or descriptive. Some rules for naming a variable are:\n",
    "1. A variable name must start with a letter or an underscore\n",
    "2. Variable name should not start with a number\n",
    "3. Variable names are case sensitive\n",
    "4. A variable name should consists of only alpha-numeric character and an underscore.\n",
    "5. Variable name should not have Python keywords\n",
    "\n",
    "\n",
    "To make variables more readable, we can use descriptive names using the following techniques.\n",
    "1. Camel Case: each word except the first should begin with capital letters\n",
    "2. Pascal Case: each word starts with a capital letter\n",
    "3. Snake Case: each word is seperated by an underscore"
   ]
  },
  {
   "cell_type": "code",
   "execution_count": 15,
   "id": "fc24c568",
   "metadata": {},
   "outputs": [],
   "source": [
    "myVariableName = 'Vikash' #camel case\n",
    "MyVariableName = 'Kumar' #pascal case\n",
    "my_variable_name = 'Singh' #snake case"
   ]
  },
  {
   "cell_type": "markdown",
   "id": "53ef8955",
   "metadata": {},
   "source": [
    "### Multiple Variables"
   ]
  },
  {
   "cell_type": "markdown",
   "id": "e600e12f",
   "metadata": {},
   "source": [
    "Multiple variables may be assigned at a time in one line.\n",
    "\n",
    "One value can also be assigned to multiple variables."
   ]
  },
  {
   "cell_type": "code",
   "execution_count": 16,
   "id": "b982bda6",
   "metadata": {
    "scrolled": true
   },
   "outputs": [
    {
     "name": "stdout",
     "output_type": "stream",
     "text": [
      "1\n",
      "2\n",
      "3\n"
     ]
    }
   ],
   "source": [
    "x, y, z = 1, 2, 3 #assigning multiple variables different values in one single line\n",
    "print(x)\n",
    "print(y)\n",
    "print(z)"
   ]
  },
  {
   "cell_type": "code",
   "execution_count": 17,
   "id": "d24f0988",
   "metadata": {},
   "outputs": [
    {
     "name": "stdout",
     "output_type": "stream",
     "text": [
      "Mercedes\n",
      "Mercedes\n",
      "Mercedes\n"
     ]
    }
   ],
   "source": [
    "x = y = z = \"Mercedes\"\n",
    "print(x)\n",
    "print(y)\n",
    "print(z)"
   ]
  },
  {
   "cell_type": "markdown",
   "id": "935ec7eb",
   "metadata": {},
   "source": [
    "If there are collection of values in a list, tuple etc. Python allows to extract the values into variables. This is called unpacking."
   ]
  },
  {
   "cell_type": "code",
   "execution_count": 18,
   "id": "53f465e1",
   "metadata": {},
   "outputs": [
    {
     "name": "stdout",
     "output_type": "stream",
     "text": [
      "Mercedes\n",
      "Audi\n",
      "BMW\n"
     ]
    }
   ],
   "source": [
    "cars = ['Mercedes', 'Audi', 'BMW']\n",
    "x,y,z = cars\n",
    "print(x)\n",
    "print(y)\n",
    "print(z)"
   ]
  },
  {
   "cell_type": "markdown",
   "id": "b5802efe",
   "metadata": {},
   "source": [
    "### Outputting Variables"
   ]
  },
  {
   "cell_type": "markdown",
   "id": "7e2cc23c",
   "metadata": {},
   "source": [
    "Python uses print() function to output any variable.\n",
    "\n",
    "We can also output multiple variables, seperated by commas."
   ]
  },
  {
   "cell_type": "code",
   "execution_count": 19,
   "id": "578ea642",
   "metadata": {},
   "outputs": [
    {
     "name": "stdout",
     "output_type": "stream",
     "text": [
      "Python is awesome\n"
     ]
    }
   ],
   "source": [
    "x = \"Python is awesome\"\n",
    "print(x)"
   ]
  },
  {
   "cell_type": "code",
   "execution_count": 20,
   "id": "f62c47b2",
   "metadata": {},
   "outputs": [
    {
     "name": "stdout",
     "output_type": "stream",
     "text": [
      "India is beautiful.\n"
     ]
    }
   ],
   "source": [
    "x = 'India'\n",
    "y = 'is'\n",
    "z = 'beautiful.'\n",
    "print(x,y,z)"
   ]
  },
  {
   "cell_type": "markdown",
   "id": "870dad23",
   "metadata": {},
   "source": [
    "We can also use + operator to print multiple values."
   ]
  },
  {
   "cell_type": "code",
   "execution_count": 21,
   "id": "c557bad6",
   "metadata": {},
   "outputs": [
    {
     "name": "stdout",
     "output_type": "stream",
     "text": [
      "Indiaisbeautiful.\n"
     ]
    }
   ],
   "source": [
    "x = 'India'\n",
    "y = 'is'\n",
    "z = 'beautiful.'\n",
    "print(x+y+z)"
   ]
  },
  {
   "cell_type": "markdown",
   "id": "5b49da57",
   "metadata": {},
   "source": [
    "For numbers the + operator adds the value and print"
   ]
  },
  {
   "cell_type": "code",
   "execution_count": 22,
   "id": "2f93e1b5",
   "metadata": {},
   "outputs": [
    {
     "name": "stdout",
     "output_type": "stream",
     "text": [
      "5\n"
     ]
    }
   ],
   "source": [
    "x = 2\n",
    "y = 3\n",
    "print(x+y)"
   ]
  },
  {
   "cell_type": "code",
   "execution_count": 23,
   "id": "f60209c3",
   "metadata": {},
   "outputs": [
    {
     "ename": "TypeError",
     "evalue": "unsupported operand type(s) for +: 'int' and 'str'",
     "output_type": "error",
     "traceback": [
      "\u001b[1;31m---------------------------------------------------------------------------\u001b[0m",
      "\u001b[1;31mTypeError\u001b[0m                                 Traceback (most recent call last)",
      "Input \u001b[1;32mIn [23]\u001b[0m, in \u001b[0;36m<cell line: 3>\u001b[1;34m()\u001b[0m\n\u001b[0;32m      1\u001b[0m x \u001b[38;5;241m=\u001b[39m \u001b[38;5;241m2\u001b[39m\n\u001b[0;32m      2\u001b[0m y \u001b[38;5;241m=\u001b[39m \u001b[38;5;124m'\u001b[39m\u001b[38;5;124mShiv\u001b[39m\u001b[38;5;124m'\u001b[39m\n\u001b[1;32m----> 3\u001b[0m \u001b[38;5;28mprint\u001b[39m(\u001b[43mx\u001b[49m\u001b[38;5;241;43m+\u001b[39;49m\u001b[43my\u001b[49m)\n",
      "\u001b[1;31mTypeError\u001b[0m: unsupported operand type(s) for +: 'int' and 'str'"
     ]
    }
   ],
   "source": [
    "x = 2\n",
    "y = 'Shiv'\n",
    "print(x+y)"
   ]
  },
  {
   "cell_type": "markdown",
   "id": "77210a1a",
   "metadata": {},
   "source": [
    "Python gives an error when we try to combine a string and a number using the + operator"
   ]
  },
  {
   "cell_type": "markdown",
   "id": "07aa4bf6",
   "metadata": {},
   "source": [
    "Instead we can use comma to print different types with a single print statement."
   ]
  },
  {
   "cell_type": "code",
   "execution_count": 24,
   "id": "0b0af9c4",
   "metadata": {},
   "outputs": [
    {
     "name": "stdout",
     "output_type": "stream",
     "text": [
      "2 Shiv\n"
     ]
    }
   ],
   "source": [
    "x = 2\n",
    "y = 'Shiv'\n",
    "print(x,y)"
   ]
  },
  {
   "cell_type": "markdown",
   "id": "e1a3a923",
   "metadata": {},
   "source": [
    "### Global Variables"
   ]
  },
  {
   "cell_type": "markdown",
   "id": "d666261a",
   "metadata": {},
   "source": [
    "Global variables are variables created outside a function. Global variables can be used by everyone, whether inside or outside a function. The variable inner to a function is known as local variable."
   ]
  },
  {
   "cell_type": "code",
   "execution_count": 25,
   "id": "1a98fc24",
   "metadata": {},
   "outputs": [
    {
     "name": "stdout",
     "output_type": "stream",
     "text": [
      "This is the variable: common\n"
     ]
    }
   ],
   "source": [
    "#We create a variable outside of a function and use it inside a function.\n",
    "x = \"common\" #this is a global variable outside a function\n",
    "def myfunc():\n",
    "    print('This is the variable:', x)\n",
    "\n",
    "myfunc()"
   ]
  },
  {
   "cell_type": "code",
   "execution_count": 29,
   "id": "6914bf0b",
   "metadata": {},
   "outputs": [
    {
     "name": "stdout",
     "output_type": "stream",
     "text": [
      "inside variable: honest\n",
      "outside variable: sincere\n"
     ]
    }
   ],
   "source": [
    "#Using same variable name inside and outside a function\n",
    "x = 'sincere'\n",
    "\n",
    "def myfunc():\n",
    "    x = \"honest\"\n",
    "    print('inside variable:', x)\n",
    "\n",
    "myfunc()\n",
    "\n",
    "print('outside variable:',x)"
   ]
  },
  {
   "cell_type": "markdown",
   "id": "c6aecc8c",
   "metadata": {},
   "source": [
    "### Using the global keyword"
   ]
  },
  {
   "cell_type": "markdown",
   "id": "726847c8",
   "metadata": {},
   "source": [
    "The global keyword is used with local variable so that it can be used to make a variable available outside the function as well"
   ]
  },
  {
   "cell_type": "code",
   "execution_count": 30,
   "id": "3c66aec7",
   "metadata": {},
   "outputs": [
    {
     "name": "stdout",
     "output_type": "stream",
     "text": [
      "The variable is: punctual\n"
     ]
    }
   ],
   "source": [
    "def myfunc():\n",
    "    global x\n",
    "    x = 'punctual'\n",
    "\n",
    "myfunc()     ## we have to call the function before print() so that it can read the variable inside the function.\n",
    "\n",
    "print('The variable is:', x)"
   ]
  },
  {
   "cell_type": "markdown",
   "id": "2168cf96",
   "metadata": {},
   "source": [
    "We can also use the variable if we want to change a global variable name inside the function."
   ]
  },
  {
   "cell_type": "code",
   "execution_count": 33,
   "id": "944e29f2",
   "metadata": {},
   "outputs": [
    {
     "name": "stdout",
     "output_type": "stream",
     "text": [
      "global variable accessed outside the function: Ferrari\n",
      "global variable accessed inside the function: BMW\n"
     ]
    }
   ],
   "source": [
    "x = 'Ferrari'\n",
    "\n",
    "def myfunc():\n",
    "    global x\n",
    "    x = 'BMW'\n",
    "\n",
    "print('global variable accessed outside the function:', x)\n",
    "myfunc()\n",
    "print('global variable accessed inside the function:', x)"
   ]
  }
 ],
 "metadata": {
  "kernelspec": {
   "display_name": "Python 3 (ipykernel)",
   "language": "python",
   "name": "python3"
  },
  "language_info": {
   "codemirror_mode": {
    "name": "ipython",
    "version": 3
   },
   "file_extension": ".py",
   "mimetype": "text/x-python",
   "name": "python",
   "nbconvert_exporter": "python",
   "pygments_lexer": "ipython3",
   "version": "3.9.12"
  },
  "varInspector": {
   "cols": {
    "lenName": 16,
    "lenType": 16,
    "lenVar": 40
   },
   "kernels_config": {
    "python": {
     "delete_cmd_postfix": "",
     "delete_cmd_prefix": "del ",
     "library": "var_list.py",
     "varRefreshCmd": "print(var_dic_list())"
    },
    "r": {
     "delete_cmd_postfix": ") ",
     "delete_cmd_prefix": "rm(",
     "library": "var_list.r",
     "varRefreshCmd": "cat(var_dic_list()) "
    }
   },
   "types_to_exclude": [
    "module",
    "function",
    "builtin_function_or_method",
    "instance",
    "_Feature"
   ],
   "window_display": false
  }
 },
 "nbformat": 4,
 "nbformat_minor": 5
}
